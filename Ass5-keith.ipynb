{
 "cells": [
  {
   "cell_type": "code",
   "execution_count": 1,
   "metadata": {},
   "outputs": [],
   "source": [
    "import numpy as np"
   ]
  },
  {
   "cell_type": "code",
   "execution_count": 44,
   "metadata": {},
   "outputs": [],
   "source": [
    "def buffon(W,H,n,l,d):\n",
    "    x = np.random.uniform(0,W,n)\n",
    "    y = np.random.uniform(0,H,n)\n",
    "    \n",
    "    x_1 = np.random.uniform(0,W,n)\n",
    "    y_1 = np.random.uniform(0,H,n)\n",
    "    \n",
    "    L = np.sqrt((x-x_1)**2+(y-y_1)**2)\n",
    "    n_x = np.arange(0,W+d,d)\n",
    "    x_2=[]\n",
    "    y_2=[]\n",
    "    \n",
    "    inter = 0\n",
    "    \n",
    "    for i in range(len(L)):\n",
    "        if x_1[i]> x[i]:\n",
    "            x_2.append(x[i] +abs(x_1[i]- x[i])*l/L[i])\n",
    "            for line in n_x:\n",
    "                if line < x_2[i] and line > x[i]:\n",
    "                    inter += 1\n",
    "        else:\n",
    "            x_2.append(x[i] -abs(x_1[i]- x[i])*l/L[i])\n",
    "            for line in n_x:\n",
    "                if line < x[i] and line > x_2[i]:\n",
    "                    inter += 1\n",
    "    \n",
    "    return inter/n\n",
    "                "
   ]
  },
  {
   "cell_type": "code",
   "execution_count": 49,
   "metadata": {},
   "outputs": [
    {
     "name": "stdout",
     "output_type": "stream",
     "text": [
      "3.5087719298245617\n"
     ]
    }
   ],
   "source": [
    "W = 10\n",
    "H = 10\n",
    "n = 1000\n",
    "l = 1\n",
    "d = 2\n",
    "prob = buffon(W,H,n,l,d)\n",
    "pi = (2*l)/(d*prob)\n",
    "print(pi)"
   ]
  }
 ],
 "metadata": {
  "kernelspec": {
   "display_name": "Python 3",
   "language": "python",
   "name": "python3"
  },
  "language_info": {
   "codemirror_mode": {
    "name": "ipython",
    "version": 3
   },
   "file_extension": ".py",
   "mimetype": "text/x-python",
   "name": "python",
   "nbconvert_exporter": "python",
   "pygments_lexer": "ipython3",
   "version": "3.6.5"
  }
 },
 "nbformat": 4,
 "nbformat_minor": 2
}
